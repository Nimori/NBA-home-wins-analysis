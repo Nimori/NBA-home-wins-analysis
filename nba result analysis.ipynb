{
 "cells": [
  {
   "cell_type": "code",
   "execution_count": 4,
   "id": "e28d3420",
   "metadata": {},
   "outputs": [],
   "source": [
    "import platform\n",
    "import pandas as pd\n",
    "import sklearn\n",
    "import os\n",
    "import numpy as np"
   ]
  },
  {
   "cell_type": "code",
   "execution_count": 5,
   "id": "055a9c53",
   "metadata": {},
   "outputs": [],
   "source": [
    "data_folder= 'nba20-21 data'\n",
    "df=pd.DataFrame()\n",
    "for file_ in os.listdir(data_folder):\n",
    "    temp=pd.read_csv(data_folder+'/'+file_,header=None,skiprows=1)\n",
    "    df=pd.concat([df,temp],ignore_index=True)\n",
    "\n",
    "df.columns=['time', 'visitors', 'visitor_pts', 'home', 'home_pts', 'box_score', '6', 'attendees', 'notes', 'month']\n",
    "df.to_csv('single_nba_file.csv',index=False)"
   ]
  },
  {
   "cell_type": "code",
   "execution_count": 6,
   "id": "59e67306",
   "metadata": {},
   "outputs": [],
   "source": [
    "df= df.drop(['time', 'box_score', '6', 'attendees', 'notes'], axis=1)"
   ]
  },
  {
   "cell_type": "code",
   "execution_count": 18,
   "id": "973aad00",
   "metadata": {},
   "outputs": [],
   "source": [
    "from sklearn.metrics import f1_score, make_scorer, classification_report\n",
    "\n",
    "scorer= make_scorer(f1_score, pos_label= None, average= 'weighted')"
   ]
  },
  {
   "cell_type": "markdown",
   "id": "3fef11a7",
   "metadata": {},
   "source": [
    "## Plotting column that tells whether the home team won corres to each match"
   ]
  },
  {
   "cell_type": "code",
   "execution_count": 8,
   "id": "54ae746c",
   "metadata": {
    "scrolled": true
   },
   "outputs": [
    {
     "data": {
      "text/html": [
       "<div>\n",
       "<style scoped>\n",
       "    .dataframe tbody tr th:only-of-type {\n",
       "        vertical-align: middle;\n",
       "    }\n",
       "\n",
       "    .dataframe tbody tr th {\n",
       "        vertical-align: top;\n",
       "    }\n",
       "\n",
       "    .dataframe thead th {\n",
       "        text-align: right;\n",
       "    }\n",
       "</style>\n",
       "<table border=\"1\" class=\"dataframe\">\n",
       "  <thead>\n",
       "    <tr style=\"text-align: right;\">\n",
       "      <th></th>\n",
       "      <th>visitors</th>\n",
       "      <th>visitor_pts</th>\n",
       "      <th>home</th>\n",
       "      <th>home_pts</th>\n",
       "      <th>month</th>\n",
       "      <th>home_wins</th>\n",
       "    </tr>\n",
       "  </thead>\n",
       "  <tbody>\n",
       "    <tr>\n",
       "      <th>0</th>\n",
       "      <td>Golden State Warriors</td>\n",
       "      <td>99.0</td>\n",
       "      <td>Brooklyn Nets</td>\n",
       "      <td>125.0</td>\n",
       "      <td>December</td>\n",
       "      <td>True</td>\n",
       "    </tr>\n",
       "    <tr>\n",
       "      <th>1</th>\n",
       "      <td>Los Angeles Clippers</td>\n",
       "      <td>116.0</td>\n",
       "      <td>Los Angeles Lakers</td>\n",
       "      <td>109.0</td>\n",
       "      <td>December</td>\n",
       "      <td>False</td>\n",
       "    </tr>\n",
       "    <tr>\n",
       "      <th>2</th>\n",
       "      <td>Charlotte Hornets</td>\n",
       "      <td>114.0</td>\n",
       "      <td>Cleveland Cavaliers</td>\n",
       "      <td>121.0</td>\n",
       "      <td>December</td>\n",
       "      <td>True</td>\n",
       "    </tr>\n",
       "    <tr>\n",
       "      <th>3</th>\n",
       "      <td>New York Knicks</td>\n",
       "      <td>107.0</td>\n",
       "      <td>Indiana Pacers</td>\n",
       "      <td>121.0</td>\n",
       "      <td>December</td>\n",
       "      <td>True</td>\n",
       "    </tr>\n",
       "    <tr>\n",
       "      <th>4</th>\n",
       "      <td>Miami Heat</td>\n",
       "      <td>107.0</td>\n",
       "      <td>Orlando Magic</td>\n",
       "      <td>113.0</td>\n",
       "      <td>December</td>\n",
       "      <td>True</td>\n",
       "    </tr>\n",
       "    <tr>\n",
       "      <th>...</th>\n",
       "      <td>...</td>\n",
       "      <td>...</td>\n",
       "      <td>...</td>\n",
       "      <td>...</td>\n",
       "      <td>...</td>\n",
       "      <td>...</td>\n",
       "    </tr>\n",
       "    <tr>\n",
       "      <th>1153</th>\n",
       "      <td>Memphis Grizzlies</td>\n",
       "      <td>133.0</td>\n",
       "      <td>Houston Rockets</td>\n",
       "      <td>84.0</td>\n",
       "      <td>February</td>\n",
       "      <td>False</td>\n",
       "    </tr>\n",
       "    <tr>\n",
       "      <th>1154</th>\n",
       "      <td>Golden State Warriors</td>\n",
       "      <td>91.0</td>\n",
       "      <td>Los Angeles Lakers</td>\n",
       "      <td>117.0</td>\n",
       "      <td>February</td>\n",
       "      <td>True</td>\n",
       "    </tr>\n",
       "    <tr>\n",
       "      <th>1155</th>\n",
       "      <td>Atlanta Hawks</td>\n",
       "      <td>99.0</td>\n",
       "      <td>Miami Heat</td>\n",
       "      <td>109.0</td>\n",
       "      <td>February</td>\n",
       "      <td>True</td>\n",
       "    </tr>\n",
       "    <tr>\n",
       "      <th>1156</th>\n",
       "      <td>Phoenix Suns</td>\n",
       "      <td>118.0</td>\n",
       "      <td>Minnesota Timberwolves</td>\n",
       "      <td>99.0</td>\n",
       "      <td>February</td>\n",
       "      <td>False</td>\n",
       "    </tr>\n",
       "    <tr>\n",
       "      <th>1157</th>\n",
       "      <td>Charlotte Hornets</td>\n",
       "      <td>127.0</td>\n",
       "      <td>Sacramento Kings</td>\n",
       "      <td>126.0</td>\n",
       "      <td>February</td>\n",
       "      <td>False</td>\n",
       "    </tr>\n",
       "  </tbody>\n",
       "</table>\n",
       "<p>1158 rows × 6 columns</p>\n",
       "</div>"
      ],
      "text/plain": [
       "                   visitors  visitor_pts                    home  home_pts  \\\n",
       "0     Golden State Warriors         99.0           Brooklyn Nets     125.0   \n",
       "1      Los Angeles Clippers        116.0      Los Angeles Lakers     109.0   \n",
       "2         Charlotte Hornets        114.0     Cleveland Cavaliers     121.0   \n",
       "3           New York Knicks        107.0          Indiana Pacers     121.0   \n",
       "4                Miami Heat        107.0           Orlando Magic     113.0   \n",
       "...                     ...          ...                     ...       ...   \n",
       "1153      Memphis Grizzlies        133.0         Houston Rockets      84.0   \n",
       "1154  Golden State Warriors         91.0      Los Angeles Lakers     117.0   \n",
       "1155          Atlanta Hawks         99.0              Miami Heat     109.0   \n",
       "1156           Phoenix Suns        118.0  Minnesota Timberwolves      99.0   \n",
       "1157      Charlotte Hornets        127.0        Sacramento Kings     126.0   \n",
       "\n",
       "         month  home_wins  \n",
       "0     December       True  \n",
       "1     December      False  \n",
       "2     December       True  \n",
       "3     December       True  \n",
       "4     December       True  \n",
       "...        ...        ...  \n",
       "1153  February      False  \n",
       "1154  February       True  \n",
       "1155  February       True  \n",
       "1156  February      False  \n",
       "1157  February      False  \n",
       "\n",
       "[1158 rows x 6 columns]"
      ]
     },
     "execution_count": 8,
     "metadata": {},
     "output_type": "execute_result"
    }
   ],
   "source": [
    "df['home_wins']= df['visitor_pts'] < df['home_pts']\n",
    "y_true= df['home_wins'].values\n",
    "df"
   ]
  },
  {
   "cell_type": "markdown",
   "id": "2c6ee623",
   "metadata": {},
   "source": [
    "## Calculating the Home-win Percentage"
   ]
  },
  {
   "cell_type": "code",
   "execution_count": 9,
   "id": "f7d52fd0",
   "metadata": {},
   "outputs": [],
   "source": [
    "n_games= df['home_wins'].count()\n",
    "n_homewins= df['home_wins'].sum() #counts only those values that are true\n",
    "homewin_percent= n_homewins/ n_games"
   ]
  },
  {
   "cell_type": "code",
   "execution_count": 10,
   "id": "cef8bcb1",
   "metadata": {},
   "outputs": [
    {
     "data": {
      "text/plain": [
       "(1158, 608, 0.5250431778929189)"
      ]
     },
     "execution_count": 10,
     "metadata": {},
     "output_type": "execute_result"
    }
   ],
   "source": [
    "n_games, n_homewins, homewin_percent"
   ]
  },
  {
   "cell_type": "code",
   "execution_count": 50,
   "id": "828584a1",
   "metadata": {},
   "outputs": [
    {
     "data": {
      "text/plain": [
       "1158"
      ]
     },
     "execution_count": 50,
     "metadata": {},
     "output_type": "execute_result"
    }
   ],
   "source": [
    "y_pred= [1]*len(y_true) #predicting 1 or True for the entire dataset\n",
    "len(y_pred)"
   ]
  },
  {
   "cell_type": "markdown",
   "id": "0c152267",
   "metadata": {},
   "source": [
    "## Finding the baseline score"
   ]
  },
  {
   "cell_type": "code",
   "execution_count": 12,
   "id": "6f5d140b",
   "metadata": {},
   "outputs": [],
   "source": [
    "score= f1_score(y_true, y_pred, pos_label= None, average= 'weighted')"
   ]
  },
  {
   "cell_type": "code",
   "execution_count": 13,
   "id": "67b4f3ea",
   "metadata": {},
   "outputs": [
    {
     "data": {
      "text/plain": [
       "0.36152463438153415"
      ]
     },
     "execution_count": 13,
     "metadata": {},
     "output_type": "execute_result"
    }
   ],
   "source": [
    "score"
   ]
  },
  {
   "cell_type": "markdown",
   "id": "ccde4fda",
   "metadata": {},
   "source": [
    "## Plotting a pie chart of total no. of home wins in each month"
   ]
  },
  {
   "cell_type": "code",
   "execution_count": 35,
   "id": "6d523a45",
   "metadata": {},
   "outputs": [],
   "source": [
    "month_list= ['December', 'January', 'February', 'March', 'April', 'May']\n",
    "month_wise_hometeam_wins= []\n",
    "for month in month_list:\n",
    "    month_wise_hometeam_wins.append(df[df['month']==month]['home_wins'].sum())"
   ]
  },
  {
   "cell_type": "code",
   "execution_count": 38,
   "id": "29a73e35",
   "metadata": {},
   "outputs": [
    {
     "data": {
      "text/plain": [
       "[33, 118, 120, 107, 131, 99]"
      ]
     },
     "execution_count": 38,
     "metadata": {},
     "output_type": "execute_result"
    }
   ],
   "source": [
    "month_wise_hometeam_wins"
   ]
  },
  {
   "cell_type": "code",
   "execution_count": 45,
   "id": "8acd23ec",
   "metadata": {},
   "outputs": [
    {
     "data": {
      "image/png": "[encoded data removed]",
      "text/plain": [
       "<Figure size 432x288 with 1 Axes>"
      ]
     },
     "metadata": {},
     "output_type": "display_data"
    }
   ],
   "source": [
    "from matplotlib import pyplot as plt\n",
    "plt.axis('equal')\n",
    "plt.pie(month_wise_hometeam_wins, labels= month_list, radius=1.5, autopct= '%0.2f%%')\n",
    "plt.show()"
   ]
  },
  {
   "cell_type": "markdown",
   "id": "b414d3cc",
   "metadata": {},
   "source": [
    "## Feature Engineering"
   ]
  },
  {
   "cell_type": "code",
   "execution_count": 14,
   "id": "e6ecff15",
   "metadata": {},
   "outputs": [],
   "source": [
    "df['home_last_win']= False\n",
    "df['visitor_last_win']= False"
   ]
  },
  {
   "cell_type": "markdown",
   "id": "6d4d70ff",
   "metadata": {},
   "source": [
    "### Now we compute the actual value for these and find whether the home and visitor teams win their last game or not"
   ]
  },
  {
   "cell_type": "code",
   "execution_count": 15,
   "id": "3ce8cae0",
   "metadata": {},
   "outputs": [],
   "source": [
    "from collections import defaultdict\n",
    "won_last= defaultdict(bool)\n",
    "\n",
    "for index, row in df.iterrows():\n",
    "    home_team= row['home']\n",
    "    visitor_team= row['visitors']\n",
    "    row['home_last_win']= won_last[home_team]\n",
    "    row['visitor_last_win']= won_last[visitor_team]\n",
    "    #print(row)\n",
    "    df.iloc[index]= row\n",
    "    \n",
    "    #Set current win\n",
    "    won_last[home_team]= row['home_wins']\n",
    "    won_last[visitor_team]= not row['home_wins']"
   ]
  },
  {
   "cell_type": "code",
   "execution_count": 47,
   "id": "3ed84906",
   "metadata": {},
   "outputs": [],
   "source": [
    "#df"
   ]
  },
  {
   "cell_type": "markdown",
   "id": "897d517d",
   "metadata": {},
   "source": [
    "## Create a dataset with just the necessary information"
   ]
  },
  {
   "cell_type": "code",
   "execution_count": 19,
   "id": "87f07e00",
   "metadata": {},
   "outputs": [],
   "source": [
    "from sklearn.tree import DecisionTreeClassifier\n",
    "from sklearn.model_selection import cross_val_score\n",
    "\n",
    "x_prev_wins= df[['home_last_win', 'visitor_last_win']].values\n",
    "clf= DecisionTreeClassifier(random_state= 14)\n",
    "scores= cross_val_score(clf, x_prev_wins, y_true, scoring= scorer)"
   ]
  },
  {
   "cell_type": "code",
   "execution_count": 48,
   "id": "1b06a73a",
   "metadata": {},
   "outputs": [
    {
     "name": "stdout",
     "output_type": "stream",
     "text": [
      "0.5526574256395705\n"
     ]
    }
   ],
   "source": [
    "print(np.mean(scores)) #new, engineered score"
   ]
  },
  {
   "cell_type": "markdown",
   "id": "5c0b7336",
   "metadata": {},
   "source": [
    "## Win Streak Analysis"
   ]
  },
  {
   "cell_type": "code",
   "execution_count": 22,
   "id": "c4074082",
   "metadata": {},
   "outputs": [],
   "source": [
    "df['home_win_streak']= 0\n",
    "df['visitor_win_streak']= 0\n",
    "\n",
    "### Did the home and visitor teams win their last game?\n",
    "win_streak= defaultdict(int)\n",
    "\n",
    "for index, row in df.iterrows():\n",
    "    home_team= row['home']\n",
    "    visitor_team= row['visitors']\n",
    "    row['home_win_streak']= win_streak[home_team]\n",
    "    row['visitor_win_streak']= win_streak[visitor_team]\n",
    "    df.iloc[index]= row\n",
    "    \n",
    "    #Set current win\n",
    "    if row['home_wins']:\n",
    "        win_streak[home_team]+= 1\n",
    "        win_streak[visitor_team]= 0\n",
    "    else:\n",
    "        win_streak[home_team]= 0\n",
    "        win_streak[visitor_team]+= 1"
   ]
  },
  {
   "cell_type": "code",
   "execution_count": 49,
   "id": "bb74783e",
   "metadata": {},
   "outputs": [],
   "source": [
    "#df"
   ]
  },
  {
   "cell_type": "code",
   "execution_count": 24,
   "id": "47c74058",
   "metadata": {},
   "outputs": [],
   "source": [
    "x_win_streak= df[['home_last_win', 'visitor_last_win', 'home_win_streak', 'visitor_win_streak']].values\n",
    "clf= DecisionTreeClassifier(random_state= 14)\n",
    "scores2= cross_val_score(clf, x_win_streak, y_true, scoring= scorer)"
   ]
  },
  {
   "cell_type": "code",
   "execution_count": 25,
   "id": "2dfe78d0",
   "metadata": {},
   "outputs": [
    {
     "data": {
      "text/plain": [
       "0.5358970126494802"
      ]
     },
     "execution_count": 25,
     "metadata": {},
     "output_type": "execute_result"
    }
   ],
   "source": [
    "np.mean(scores2) "
   ]
  }
 ],
 "metadata": {
  "kernelspec": {
   "display_name": "Python 3",
   "language": "python",
   "name": "python3"
  },
  "language_info": {
   "codemirror_mode": {
    "name": "ipython",
    "version": 3
   },
   "file_extension": ".py",
   "mimetype": "text/x-python",
   "name": "python",
   "nbconvert_exporter": "python",
   "pygments_lexer": "ipython3",
   "version": "3.8.5"
  }
 },
 "nbformat": 4,
 "nbformat_minor": 5
}
